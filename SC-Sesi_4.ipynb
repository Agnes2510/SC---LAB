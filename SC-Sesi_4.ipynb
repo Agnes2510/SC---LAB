{
  "nbformat": 4,
  "nbformat_minor": 0,
  "metadata": {
    "colab": {
      "provenance": [],
      "authorship_tag": "ABX9TyM5gFQujLhWb3ZsaPcgaGqI",
      "include_colab_link": true
    },
    "kernelspec": {
      "name": "python3",
      "display_name": "Python 3"
    },
    "language_info": {
      "name": "python"
    }
  },
  "cells": [
    {
      "cell_type": "markdown",
      "metadata": {
        "id": "view-in-github",
        "colab_type": "text"
      },
      "source": [
        "<a href=\"https://colab.research.google.com/github/Agnes2510/SC---LAB/blob/main/SC-Sesi_4.ipynb\" target=\"_parent\"><img src=\"https://colab.research.google.com/assets/colab-badge.svg\" alt=\"Open In Colab\"/></a>"
      ]
    },
    {
      "cell_type": "code",
      "execution_count": 35,
      "metadata": {
        "id": "H9yLJqigFRbG"
      },
      "outputs": [],
      "source": [
        "# Metode Bisection\n",
        "\n",
        "import numpy as np\n",
        "\n",
        "def my_bisection(f, a, b, tol):\n",
        "\n",
        "  if np.sign(f(a)) == np.sign(f(b)):\n",
        "    raise Exception(\n",
        "        \"the scalars a and b do not bound a root\"\n",
        "    )\n",
        "\n",
        "  # buat mid poin / nilai tengah\n",
        "  m = (a+b)/2\n",
        "\n",
        "  if np.abs (f(m)) < tol:\n",
        "    return m\n",
        "  elif np.sign (f(a)) == np.sign(f(m)):\n",
        "    return my_bisection (f, m, b, tol)\n",
        "    # a diganti m agar kebagi 2\n",
        "  elif np.sign (f(b)) == np.sign(f(m)) :\n",
        "    return my_bisection (f, a, m, tol)"
      ]
    },
    {
      "cell_type": "code",
      "source": [
        "f = lambda x: x**2 - 2\n",
        "\n",
        "r1 = my_bisection (f, 0, 2, 0.1)\n",
        "print(\"r1 =\", r1)\n",
        "r01 = my_bisection(f,0, 2, 0.01)\n",
        "print (\"r01 = \", r01)\n",
        "\n",
        "print (\"f(r1) = \", f(r1))\n",
        "print (\"f(r01) = \", f(r01))"
      ],
      "metadata": {
        "colab": {
          "base_uri": "https://localhost:8080/"
        },
        "id": "RsWvXxwHHE7O",
        "outputId": "239505ab-978c-48e8-eb77-79a137643562"
      },
      "execution_count": 36,
      "outputs": [
        {
          "output_type": "stream",
          "name": "stdout",
          "text": [
            "r1 = 1.4375\n",
            "r01 =  1.4140625\n",
            "f(r1) =  0.06640625\n",
            "f(r01) =  -0.00042724609375\n"
          ]
        }
      ]
    },
    {
      "cell_type": "code",
      "source": [
        "# Metode Newton - Cara I\n",
        "# f_prime itu turunan dari fungsi\n",
        "\n",
        "import numpy as np\n",
        "f = lambda x: x**2 - 2\n",
        "f_prime = lambda x: 2*x\n",
        "newton_raphson = 1.4 - (f(1.4) / (f_prime (1.4)))\n",
        "\n",
        "print (\"newton_raphson = \", newton_raphson)\n",
        "print (\"sqrt(2) = \", np.sqrt(2))\n",
        "\n"
      ],
      "metadata": {
        "colab": {
          "base_uri": "https://localhost:8080/"
        },
        "id": "1vynGJrCIVVW",
        "outputId": "8bfc64d0-2289-4b26-a384-bcdf485bfc04"
      },
      "execution_count": 37,
      "outputs": [
        {
          "output_type": "stream",
          "name": "stdout",
          "text": [
            "newton_raphson =  1.4142857142857144\n",
            "sqrt(2) =  1.4142135623730951\n"
          ]
        }
      ]
    },
    {
      "cell_type": "code",
      "source": [
        "# RUMUS II - NEWTON\n",
        "def my_newton (f, df, x0, tol):\n",
        "  if abs (f(x0)) < tol:\n",
        "    return x0\n",
        "  else :\n",
        "    return my_newton(f, df, x0 - f(x0)/df(x0), tol)"
      ],
      "metadata": {
        "id": "4smECpC_JNZn"
      },
      "execution_count": 38,
      "outputs": []
    },
    {
      "cell_type": "code",
      "source": [
        "estimate = my_newton (f, f_prime, 1.5, 1e-6)\n",
        "print (\"estimate = \", estimate)\n",
        "print (\"sqrt(2) = \", np.sqrt(2))\n"
      ],
      "metadata": {
        "colab": {
          "base_uri": "https://localhost:8080/"
        },
        "id": "FnAxoDbVJghv",
        "outputId": "b14b477e-8d57-4f02-f1fc-60d2b51738d5"
      },
      "execution_count": 39,
      "outputs": [
        {
          "output_type": "stream",
          "name": "stdout",
          "text": [
            "estimate =  1.4142135623746899\n",
            "sqrt(2) =  1.4142135623730951\n"
          ]
        }
      ]
    },
    {
      "cell_type": "code",
      "source": [
        "#metode newton - soal lab - Tanpa estimate\n",
        "\n",
        "import numpy as np\n",
        "\n",
        "# soal: Diketahui: -> f(x) = x^2 - ln (x+2), -> x0 = 1, -> tol = 0,001\n",
        "f = lambda x: x**2 - np.log(x+2)\n",
        "f_prime = lambda x: 2*x - (1 / (x+2))\n",
        "newton_raphson = 1 - (f(1) / (f_prime (1)))\n",
        "\n",
        "print (\"newton_raphson = \", newton_raphson)\n",
        "print (\"sqrt(2) = \", np.sqrt(2))\n",
        "\n"
      ],
      "metadata": {
        "colab": {
          "base_uri": "https://localhost:8080/"
        },
        "id": "gajldYcBM_-x",
        "outputId": "93e8f0f4-954c-46e9-8142-88f68ba069d4"
      },
      "execution_count": 40,
      "outputs": [
        {
          "output_type": "stream",
          "name": "stdout",
          "text": [
            "newton_raphson =  1.059167373200866\n",
            "sqrt(2) =  1.4142135623730951\n"
          ]
        }
      ]
    },
    {
      "cell_type": "code",
      "source": [
        "#metode newton - soal lab - dengan estimate\n",
        "def my_newton (f, df, x0, tol):\n",
        "  if abs (f(x0)) < tol:\n",
        "    return x0\n",
        "  else :\n",
        "    return my_newton(f, df, x0 - f(x0)/df(x0), tol)"
      ],
      "metadata": {
        "id": "mxojgAa6YNtp"
      },
      "execution_count": 41,
      "outputs": []
    },
    {
      "cell_type": "code",
      "source": [
        "estimate = my_newton (f, f_prime, 1, 0.001)\n",
        "print (\"estimate = \", estimate)\n",
        "print (\"sqrt(2) = \", np.sqrt(2))"
      ],
      "metadata": {
        "colab": {
          "base_uri": "https://localhost:8080/"
        },
        "id": "Ct9Zl-uBYlKj",
        "outputId": "b77f111b-c9b3-4e49-c40f-3defade6ed4b"
      },
      "execution_count": 42,
      "outputs": [
        {
          "output_type": "stream",
          "name": "stdout",
          "text": [
            "estimate =  1.0571060546915994\n",
            "sqrt(2) =  1.4142135623730951\n"
          ]
        }
      ]
    },
    {
      "cell_type": "code",
      "source": [
        "# Soal Lab - Bisection\n",
        "\n",
        "f = lambda x: np.cos(x) - x\n",
        "\n",
        "r1=my_bisection(f, 0, 1, 0.0001)\n",
        "print (\"r1 =\",r1)\n",
        "r01 = my_bisection (f, 0, 1, 0.001)\n",
        "print (\"r01 = \", r01)\n",
        "\n",
        "print (\"f(r1) = \", f(r1))\n",
        "print (\"f(r01) = \", f(r01))\n"
      ],
      "metadata": {
        "colab": {
          "base_uri": "https://localhost:8080/"
        },
        "id": "cjrI7fIyQHVY",
        "outputId": "22c866ba-ac5b-40fe-ee7e-81abf0af3a96"
      },
      "execution_count": 43,
      "outputs": [
        {
          "output_type": "stream",
          "name": "stdout",
          "text": [
            "r1 = 0.7391357421875\n",
            "r01 =  0.7392578125\n",
            "f(r1) =  -8.470073137478717e-05\n",
            "f(r01) =  -0.0002890091467900868\n"
          ]
        }
      ]
    },
    {
      "cell_type": "code",
      "source": [
        "# MODUL\n",
        "# Newton - Raphson\n",
        "# Cara I\n",
        "\n",
        "# soal:\n",
        "# Diketahui:\n",
        "# -> f(x) = x^3 - 3*x^2 + 2*x\n",
        "# -> x0 = 1.5\n",
        "# -> tol = 0,01\n",
        "\n",
        "import numpy as np\n",
        "f = lambda x: x**3 - 3*x**2 + 2*x\n",
        "f_prime = lambda x: 3*x**2 - 6*x + 2\n",
        "newton_raphson = 1.5 - (f(1.5) / (f_prime (1.5)))\n",
        "\n",
        "print (\"newton_raphson = \", newton_raphson)\n",
        "print (\"sqrt(2) = \", np.sqrt(2))"
      ],
      "metadata": {
        "colab": {
          "base_uri": "https://localhost:8080/"
        },
        "id": "5AQABqelQv7T",
        "outputId": "7b26f4de-cc27-4ae3-a21a-58dedde0d294"
      },
      "execution_count": 44,
      "outputs": [
        {
          "output_type": "stream",
          "name": "stdout",
          "text": [
            "newton_raphson =  0.0\n",
            "sqrt(2) =  1.4142135623730951\n"
          ]
        }
      ]
    },
    {
      "cell_type": "code",
      "source": [
        "# Cara II\n",
        "\n",
        "def my_newton (f, df, x0, tol):\n",
        "  if abs (f(x0)) < tol:\n",
        "    return x0\n",
        "  else :\n",
        "    return my_newton(f, df, x0 - f(x0)/df(x0), tol)"
      ],
      "metadata": {
        "id": "yKi8ClrUay1Q"
      },
      "execution_count": 45,
      "outputs": []
    },
    {
      "cell_type": "code",
      "source": [
        "\n",
        "estimate = my_newton (f, f_prime, 1.5, 0.01)\n",
        "print (\"estimate = \", estimate)\n",
        "print (\"sqrt(2) = \", np.sqrt(2))\n"
      ],
      "metadata": {
        "colab": {
          "base_uri": "https://localhost:8080/"
        },
        "id": "pGxWmSJCa4wr",
        "outputId": "bb44249c-6bec-4740-8aab-3c561446fb05"
      },
      "execution_count": 46,
      "outputs": [
        {
          "output_type": "stream",
          "name": "stdout",
          "text": [
            "estimate =  0.0\n",
            "sqrt(2) =  1.4142135623730951\n"
          ]
        }
      ]
    },
    {
      "cell_type": "code",
      "source": [
        "#MODUL\n",
        "# Newton - Raphson\n",
        "\n",
        "# DIKETAHUI:\n",
        "# f(x) = e^x - 2*x\n",
        "# x0 = 1\n",
        "# tol = 0,001\n",
        "\n",
        "import numpy as np\n",
        "f = lambda x: np.exp(x) - 2*x\n",
        "f_prime = lambda x: np.exp(x) - 2\n",
        "newton_raphson = 1 - (f(1)) / (f_prime (1))\n",
        "\n",
        "\n",
        "print (\"newton_raphson = \", newton_raphson)\n",
        "print (\"sqrt(2) = \", np.sqrt(2))"
      ],
      "metadata": {
        "colab": {
          "base_uri": "https://localhost:8080/"
        },
        "id": "kpDpBCaBRADl",
        "outputId": "e2740f88-1352-474f-e434-e6d6daf2e688"
      },
      "execution_count": 47,
      "outputs": [
        {
          "output_type": "stream",
          "name": "stdout",
          "text": [
            "newton_raphson =  0.0\n",
            "sqrt(2) =  1.4142135623730951\n"
          ]
        }
      ]
    },
    {
      "cell_type": "code",
      "source": [
        "def my_newton (f, df, x0, tol):\n",
        "  if abs (f(x0)) > tol:\n",
        "    return x0\n",
        "  else :\n",
        "    return my_newton(f, df, x0 - f(x0)/df(x0), tol)"
      ],
      "metadata": {
        "id": "7FtxwhHEbNUk"
      },
      "execution_count": 60,
      "outputs": []
    },
    {
      "cell_type": "code",
      "source": [
        "estimate = my_newton (f, f_prime, 1, 0.001)\n",
        "print (\"estimate = \", estimate)\n",
        "print (\"sqrt(2) = \", np.sqrt(2))\n"
      ],
      "metadata": {
        "colab": {
          "base_uri": "https://localhost:8080/"
        },
        "id": "6NqDA-RmbPG2",
        "outputId": "9dad4f16-5653-4c92-acf0-7bca09a81495"
      },
      "execution_count": 61,
      "outputs": [
        {
          "output_type": "stream",
          "name": "stdout",
          "text": [
            "estimate =  1\n",
            "sqrt(2) =  1.4142135623730951\n"
          ]
        }
      ]
    },
    {
      "cell_type": "code",
      "source": [
        "# MODUL\n",
        "#Bisection\n",
        "\n",
        "# DIKETAHUI :\n",
        "# --> f(x) = X^3 - 3*x**2 + 2*x\n",
        "# --> [a,b]= [1,2]\n",
        "# --> tol = 0,01\n",
        "\n",
        "f = lambda x: x**3 - 3*x**2 + 2*x\n",
        "\n",
        "r1 = my_bisection (f, 1.1, 2, 0.01)\n",
        "print(\"r1 =\", r1)\n",
        "r01 = my_bisection(f, 1.1, 2, 0.01)\n",
        "print (\"r01 = \", r01)\n",
        "\n",
        "print (\"f(r1) = \", f(r1))\n",
        "print (\"f(r01) = \", f(r01))"
      ],
      "metadata": {
        "colab": {
          "base_uri": "https://localhost:8080/"
        },
        "id": "lP7w3vljUCT5",
        "outputId": "e3fc5a44-573a-41bc-a4e7-2061e8e697d6"
      },
      "execution_count": 51,
      "outputs": [
        {
          "output_type": "stream",
          "name": "stdout",
          "text": [
            "r1 = 1.996484375\n",
            "r01 =  1.996484375\n",
            "f(r1) =  -0.006994214594365111\n",
            "f(r01) =  -0.006994214594365111\n"
          ]
        }
      ]
    },
    {
      "cell_type": "code",
      "source": [
        "# MODUL\n",
        "# Bisection\n",
        "\n",
        "# DIKETAHUI :\n",
        "# -> f(x) = sin(x) - x\n",
        "# -> [a,b] = [0, 1]\n",
        "# -> tol = 0,001\n",
        "\n",
        "f = lambda x: np.sin(x) - x\n",
        "\n",
        "r1 = my_bisection (f, 0, 1, 0.001)\n",
        "print(\"r1 =\", r1)\n",
        "r01 = my_bisection (f, 0, 1, 0.001)\n",
        "print (\"r01 = \", r01)\n",
        "\n",
        "print (\"f(r1) = \", f(r1))\n",
        "print (\"f(r01) = \", f(r01))"
      ],
      "metadata": {
        "colab": {
          "base_uri": "https://localhost:8080/"
        },
        "id": "pa4EAkotU_Ns",
        "outputId": "96115ddf-4a39-49f2-dbde-3a377d0ccad8"
      },
      "execution_count": 52,
      "outputs": [
        {
          "output_type": "stream",
          "name": "stdout",
          "text": [
            "r1 = 0.125\n",
            "r01 =  0.125\n",
            "f(r1) =  -0.0003252666147723071\n",
            "f(r01) =  -0.0003252666147723071\n"
          ]
        }
      ]
    }
  ]
}