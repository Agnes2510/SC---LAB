{
  "nbformat": 4,
  "nbformat_minor": 0,
  "metadata": {
    "colab": {
      "provenance": [],
      "authorship_tag": "ABX9TyNUlgAsCezKRf98PraBPxXE",
      "include_colab_link": true
    },
    "kernelspec": {
      "name": "python3",
      "display_name": "Python 3"
    },
    "language_info": {
      "name": "python"
    }
  },
  "cells": [
    {
      "cell_type": "markdown",
      "metadata": {
        "id": "view-in-github",
        "colab_type": "text"
      },
      "source": [
        "<a href=\"https://colab.research.google.com/github/Agnes2510/SC---LAB/blob/main/SC-Sesi2.ipynb\" target=\"_parent\"><img src=\"https://colab.research.google.com/assets/colab-badge.svg\" alt=\"Open In Colab\"/></a>"
      ]
    },
    {
      "cell_type": "code",
      "source": [
        "import numpy as np\n",
        "import matplotlib.pyplot as plt\n"
      ],
      "metadata": {
        "id": "a6hlX5TVCxU1"
      },
      "execution_count": 2,
      "outputs": []
    },
    {
      "cell_type": "code",
      "source": [
        "def gauss_seidel (A, B, x_init, tol=1e-3, max_iterations = 100):\n",
        "  n = len(B)\n",
        "  x = np.array(x_init, dtype = float)\n",
        "  for _ in range(max_iterations):\n",
        "    x_b = np.copy(x)\n",
        "    for i in range(n):\n",
        "      sum_val = sum(A[i][j] * x_b[j] for j in range(n) if j != i)\n",
        "      x_b[i] = (B[i] - sum_val) / A[i][i]\n",
        "\n",
        "    if np.linalg.norm (x_b - x, ord = np.inf) < tol:\n",
        "      return x_b\n",
        "    x = x_b\n",
        "\n",
        "  return x"
      ],
      "metadata": {
        "id": "a-BygAJuDDKA"
      },
      "execution_count": 1,
      "outputs": []
    },
    {
      "cell_type": "code",
      "execution_count": 3,
      "metadata": {
        "id": "3T_IeznKeZMx",
        "colab": {
          "base_uri": "https://localhost:8080/"
        },
        "outputId": "e51d77e6-9f16-4889-ac68-a6b6be59896d"
      },
      "outputs": [
        {
          "output_type": "stream",
          "name": "stdout",
          "text": [
            "Hasil x, y, z menggunakan metode gaus seidel:  [-8.85379963e+93 -2.65613989e+94  7.96841967e+94]\n"
          ]
        }
      ],
      "source": [
        "# 1.a Sistem Persamaan Pertama dengan Metode Gaus Seidel\n",
        "A = np.array ([[2, 3, -1], [1, -1, 2], [3, 2, 1]], dtype=float)\n",
        "B = np.array ([10, 4, 14], dtype = float)\n",
        "\n",
        "x_init = [5, 5, 5]\n",
        "solution = gauss_seidel (A, B, x_init)\n",
        "print (\"Hasil x, y, z menggunakan metode gaus seidel: \", solution)"
      ]
    },
    {
      "cell_type": "code",
      "source": [
        "#1. b. menggunakan library Numpy\n",
        "\n",
        "A = np.array([[2, 3, -1], [1, -1, 2], [3, 2, 1]], dtype = float)\n",
        "\n",
        "y = np.array ([10, 4, 14], dtype = float)\n",
        "\n",
        "x = np.linalg.solve (A,y)\n",
        "print (\"Hasil x, y, dan z menggunakan numpy : \", x)\n",
        "\n"
      ],
      "metadata": {
        "colab": {
          "base_uri": "https://localhost:8080/"
        },
        "id": "RJNNKFRwAyyW",
        "outputId": "0a028a87-9045-4720-923b-3f689103cb1e"
      },
      "execution_count": null,
      "outputs": [
        {
          "output_type": "stream",
          "name": "stdout",
          "text": [
            "Hasil x, y, dan z menggunakan numpy :  [0.65 4.15 3.75]\n"
          ]
        }
      ]
    },
    {
      "cell_type": "code",
      "source": [
        "# 2.a. Gauss - Seidel\n",
        "A = np.array ([[3, -0.1, -0.2], [0.1, 7, -0.3], [0.3, -0.2, 10]], dtype=float)\n",
        "B = np.array ([7.85, -19.33, 71.4], dtype = float)\n",
        "\n",
        "x_init = [1, 2, 3]\n",
        "solution = gauss_seidel (A, B, x_init)\n",
        "print (\"Hasil x, y, z menggunakan metode gaus seidel: \", solution)"
      ],
      "metadata": {
        "id": "FAzobZxZYJpo",
        "colab": {
          "base_uri": "https://localhost:8080/"
        },
        "outputId": "1c6421c1-2f39-4193-83d9-ebf276a98c3c"
      },
      "execution_count": 4,
      "outputs": [
        {
          "output_type": "stream",
          "name": "stdout",
          "text": [
            "Hasil x, y, z menggunakan metode gaus seidel:  [ 2.9998519  -2.50428709  6.9999187 ]\n"
          ]
        }
      ]
    },
    {
      "cell_type": "code",
      "source": [
        "#2. b. menggunakan library Numpy\n",
        "\n",
        "A = np.array([[3, -0.1, -0.2], [0.1, 7, -0.3], [0.3, -0.2, 10]], dtype = float)\n",
        "\n",
        "y = np.array ([7.85, -19.33, 71.4], dtype = float)\n",
        "\n",
        "x = np.linalg.solve (A,y)\n",
        "print (\"Hasil x, y, dan z menggunakan numpy : \", x)"
      ],
      "metadata": {
        "colab": {
          "base_uri": "https://localhost:8080/"
        },
        "id": "e8S13FYeoWYl",
        "outputId": "653266ea-ee78-4157-d2c4-14fbdf915ceb"
      },
      "execution_count": 5,
      "outputs": [
        {
          "output_type": "stream",
          "name": "stdout",
          "text": [
            "Hasil x, y, dan z menggunakan numpy :  [ 2.99985168 -2.50428708  6.99991871]\n"
          ]
        }
      ]
    },
    {
      "cell_type": "code",
      "source": [
        "#3. a. Menentukan nilai alpha variabel dnegan metode Least Square Method\n",
        "import numpy as np\n",
        "import matplotlib.pyplot as plt\n",
        "\n",
        "# Data\n",
        "X = np.array([5, 4, 6, 7, 5])\n",
        "Y = np.array([10, 8, 12, 14, 10])\n",
        "\n",
        "# Hitung parameter regresi linear\n",
        "n = len(X)\n",
        "sum_x = np.sum(X)\n",
        "sum_y = np.sum(Y)\n",
        "sum_xy = np.sum(X * Y)\n",
        "sum_x2 = np.sum(X**2)\n",
        "\n",
        "# Slope (a) dan intercept (b)\n",
        "a = (n * sum_xy - sum_x * sum_y) / (n * sum_x2 - sum_x**2)\n",
        "b = (sum_y - a * sum_x) / n\n",
        "\n",
        "print (f\"Hasil alpha dari y = ax + b adalah y = {a:.2f}x + {b:.2f}\")"
      ],
      "metadata": {
        "colab": {
          "base_uri": "https://localhost:8080/"
        },
        "id": "WEBrqLYqrVKP",
        "outputId": "b4b8a25a-2697-4bb5-8ecf-ed6fda69e04a"
      },
      "execution_count": 16,
      "outputs": [
        {
          "output_type": "stream",
          "name": "stdout",
          "text": [
            "Hasil alpha dari y = ax + b adalah y = 2.00x + 0.00\n"
          ]
        }
      ]
    },
    {
      "cell_type": "code",
      "source": [
        "# Buat prediksi nilai Y berdasarkan regresi\n",
        "X_line = np.linspace(min(X), max(X), 100)\n",
        "Y_line = a * X_line + b\n",
        "# Plot hasil regresi\n",
        "plt.scatter(X, Y, color='red', label='Data')\n",
        "plt.plot(X_line, Y_line, color='blue', label=f'Regresi: y = {a:.2f}x + {b:.2f}')\n",
        "\n",
        "# Labels dan judul\n",
        "plt.xlabel('X')\n",
        "plt.ylabel('Y')\n",
        "plt.title('Regresi Linear dengan Least Squares Method')\n",
        "plt.legend()\n",
        "plt.grid()\n",
        "plt.show()\n",
        "\n",
        "# Tampilkan hasil a dan b\n",
        "a, b"
      ],
      "metadata": {
        "colab": {
          "base_uri": "https://localhost:8080/",
          "height": 490
        },
        "id": "BnXvl0WnxTSN",
        "outputId": "18c70ef8-02e0-4d6f-cc2f-4df9f9217920"
      },
      "execution_count": 18,
      "outputs": [
        {
          "output_type": "display_data",
          "data": {
            "text/plain": [
              "<Figure size 640x480 with 1 Axes>"
            ],
            "image/png": "[encoded data removed]"
          },
          "metadata": {}
        },
        {
          "output_type": "execute_result",
          "data": {
            "text/plain": [
              "(2.0, 0.0)"
            ]
          },
          "metadata": {},
          "execution_count": 18
        }
      ]
    }
  ]
}